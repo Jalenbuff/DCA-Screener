{
 "cells": [
  {
   "cell_type": "code",
   "execution_count": 4,
   "id": "ab69f53a",
   "metadata": {},
   "outputs": [],
   "source": [
    "import yfinance as yf \n",
    "import pandas as pd \n",
    "import numpy as np\n",
    "import requests \n",
    "from datetime import datetime, timedelta"
   ]
  },
  {
   "cell_type": "code",
   "execution_count": 9,
   "id": "97f69065",
   "metadata": {},
   "outputs": [
    {
     "name": "stdout",
     "output_type": "stream",
     "text": [
      "\n",
      "Weekly SPY Change: -0.86%\n",
      "RSI: 69.90\n",
      "VOL: 0.68\n",
      "\n",
      "📌 Recommendation:\n",
      "❌ No buy signal\n"
     ]
    }
   ],
   "source": [
    "key = 'zAhuvSGdkpJ500Vq7cOSYp6iONhWh8NY'\n",
    "\n",
    "def get_polygon_data(ticker, multiplier=1, timespan=\"day\", from_date=None, to_date=None, limit=100):\n",
    "    url = f\"https://api.polygon.io/v2/aggs/ticker/{ticker}/range/{multiplier}/{timespan}/{from_date}/{to_date}\"\n",
    "    params = {\"adjusted\": \"true\", \"sort\": \"desc\", \"limit\": limit, \"apiKey\": key}\n",
    "    response = requests.get(url, params=params)\n",
    "    data = response.json()\n",
    "    if \"results\" in data:\n",
    "        df = pd.DataFrame(data[\"results\"])\n",
    "        df['t'] = pd.to_datetime(df['t'], unit='ms')\n",
    "        df.set_index('t', inplace=True)\n",
    "        df = df.sort_index()\n",
    "        df.rename(columns={'c': 'close'}, inplace=True)\n",
    "        return df[['close']]\n",
    "    else:\n",
    "        raise Exception(f\"Error: {data.get('error', 'Unknown error')}\")\n",
    "\n",
    "def calculate_rsi(series, period=14):\n",
    "    delta = series.diff()\n",
    "    gain = delta.where(delta > 0, 0)\n",
    "    loss = -delta.where(delta < 0, 0)\n",
    "\n",
    "    avg_gain = gain.rolling(window=period).mean()\n",
    "    avg_loss = loss.rolling(window=period).mean()\n",
    "\n",
    "    rs = avg_gain / avg_loss\n",
    "    rsi = 100 - (100 / (1 + rs))\n",
    "    return rsi\n",
    "\n",
    "def generate_dca_signal():\n",
    "    today = datetime.today().date()\n",
    "    from_date = (today - timedelta(days=30)).isoformat()\n",
    "    to_date = today.isoformat()\n",
    "\n",
    "    spy_df = get_polygon_data(\"SPY\", from_date=from_date, to_date=to_date)\n",
    "    spy_df['rsi'] = calculate_rsi(spy_df['close'])\n",
    "\n",
    "    # Weekly return (last close vs 5 days ago)\n",
    "    if len(spy_df) < 6:\n",
    "        print(\"Not enough data.\")\n",
    "        return\n",
    "\n",
    "    weekly_return = (spy_df['close'].iloc[-1] - spy_df['close'].iloc[-6]) / spy_df['close'].iloc[-6] * 100\n",
    "    latest_rsi = spy_df['rsi'].iloc[-1]\n",
    "\n",
    "    # VIX from Polygon (assume VIX = ^VIX)\n",
    "    spy_df['range'] = spy_df['close'].pct_change().abs()\n",
    "    avg_range = spy_df['range'].tail(10).mean() * 100  # in %\n",
    "\n",
    "    print(f\"\\nWeekly SPY Change: {weekly_return:.2f}%\")\n",
    "    print(f\"RSI: {latest_rsi:.2f}\")\n",
    "    print(f\"VOL: {avg_range:.2f}\")\n",
    "\n",
    "    signal_count = 0\n",
    "    if weekly_return <= -3:\n",
    "        print(\"✔ SPY dropped >3% this week\")\n",
    "        signal_count += 1\n",
    "    if latest_rsi < 30:\n",
    "        print(\"✔ RSI < 30 (Oversold)\")\n",
    "        signal_count += 1\n",
    "    if avg_range > 1.5:\n",
    "        print(\"High Volatility, avg range >1.5%\")\n",
    "        signal_count += 1\n",
    "\n",
    "    print(\"\\n📌 Recommendation:\")\n",
    "    if signal_count == 0:\n",
    "        print(\"❌ No buy signal\")\n",
    "    elif signal_count == 1:\n",
    "        print(\"🟡 Partial Buy (1 signal hit)\")\n",
    "    elif signal_count == 2:\n",
    "        print(\"🟠 Stronger Buy (2 signals hit)\")\n",
    "    else:\n",
    "        print(\"🟢 Full Buy (All 3 signals hit)\")\n",
    "\n",
    "generate_dca_signal()"
   ]
  },
  {
   "cell_type": "code",
   "execution_count": null,
   "id": "c7c93783",
   "metadata": {},
   "outputs": [],
   "source": []
  }
 ],
 "metadata": {
  "kernelspec": {
   "display_name": "base",
   "language": "python",
   "name": "python3"
  },
  "language_info": {
   "codemirror_mode": {
    "name": "ipython",
    "version": 3
   },
   "file_extension": ".py",
   "mimetype": "text/x-python",
   "name": "python",
   "nbconvert_exporter": "python",
   "pygments_lexer": "ipython3",
   "version": "3.12.2"
  }
 },
 "nbformat": 4,
 "nbformat_minor": 5
}
